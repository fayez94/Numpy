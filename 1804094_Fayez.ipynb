{
 "cells": [
  {
   "cell_type": "markdown",
   "metadata": {
    "id": "GPVjIFKsFki5"
   },
   "source": [
    "#numpy tutorial"
   ]
  },
  {
   "cell_type": "code",
   "execution_count": 1,
   "metadata": {
    "executionInfo": {
     "elapsed": 7,
     "status": "ok",
     "timestamp": 1684651687501,
     "user": {
      "displayName": "ML Enthusiastics",
      "userId": "10606133362371998928"
     },
     "user_tz": -360
    },
    "id": "aYNo8k7OFy4n"
   },
   "outputs": [],
   "source": [
    "import numpy as np\n",
    "import sys\n",
    "import time\n"
   ]
  },
  {
   "cell_type": "markdown",
   "metadata": {
    "id": "kNN7DI5BGM28"
   },
   "source": [
    "#Numpy Array & List"
   ]
  },
  {
   "cell_type": "code",
   "execution_count": 2,
   "metadata": {
    "colab": {
     "base_uri": "https://localhost:8080/"
    },
    "executionInfo": {
     "elapsed": 6,
     "status": "ok",
     "timestamp": 1684651687502,
     "user": {
      "displayName": "ML Enthusiastics",
      "userId": "10606133362371998928"
     },
     "user_tz": -360
    },
    "id": "YYUcKHYSPdg7",
    "outputId": "50918807-ab15-46ad-8eaa-8900a4f24add"
   },
   "outputs": [
    {
     "name": "stdout",
     "output_type": "stream",
     "text": [
      "[1 2 3]\n"
     ]
    }
   ],
   "source": [
    "a=np.array([1,2,3])\n",
    "print(a)"
   ]
  },
  {
   "cell_type": "code",
   "execution_count": 3,
   "metadata": {
    "colab": {
     "base_uri": "https://localhost:8080/"
    },
    "executionInfo": {
     "elapsed": 501,
     "status": "ok",
     "timestamp": 1684651688000,
     "user": {
      "displayName": "ML Enthusiastics",
      "userId": "10606133362371998928"
     },
     "user_tz": -360
    },
    "id": "46hI-WWvrgdw",
    "outputId": "8cdd7a7d-a116-4285-dbfb-e901368d37e1"
   },
   "outputs": [
    {
     "name": "stdout",
     "output_type": "stream",
     "text": [
      "1\n"
     ]
    }
   ],
   "source": [
    "print(a[0])"
   ]
  },
  {
   "cell_type": "code",
   "execution_count": 4,
   "metadata": {
    "colab": {
     "base_uri": "https://localhost:8080/"
    },
    "executionInfo": {
     "elapsed": 12,
     "status": "ok",
     "timestamp": 1684651688001,
     "user": {
      "displayName": "ML Enthusiastics",
      "userId": "10606133362371998928"
     },
     "user_tz": -360
    },
    "id": "VKy0gTUlrhqG",
    "outputId": "fce25f41-2ddc-451a-a952-ef113564e8ec"
   },
   "outputs": [
    {
     "name": "stdout",
     "output_type": "stream",
     "text": [
      "[[1 2 3]\n",
      " [4 5 6]]\n"
     ]
    }
   ],
   "source": [
    "a=np.array([[1,2,3],[4,5,6]])\n",
    "print(a)"
   ]
  },
  {
   "cell_type": "markdown",
   "metadata": {
    "id": "NCldm8J_Q17o"
   },
   "source": [
    "#Comparison of Size between Numpy array and python list"
   ]
  },
  {
   "cell_type": "code",
   "execution_count": 5,
   "metadata": {
    "colab": {
     "base_uri": "https://localhost:8080/"
    },
    "executionInfo": {
     "elapsed": 9,
     "status": "ok",
     "timestamp": 1684651688001,
     "user": {
      "displayName": "ML Enthusiastics",
      "userId": "10606133362371998928"
     },
     "user_tz": -360
    },
    "id": "QgugAjOGRJig",
    "outputId": "7584f72f-f367-4092-9043-87c62e532ecf"
   },
   "outputs": [
    {
     "name": "stdout",
     "output_type": "stream",
     "text": [
      "8000\n"
     ]
    }
   ],
   "source": [
    "array=np.arange(1000)   \n",
    "print(array.size*array.itemsize)\n"
   ]
  },
  {
   "cell_type": "code",
   "execution_count": 6,
   "metadata": {
    "colab": {
     "base_uri": "https://localhost:8080/"
    },
    "executionInfo": {
     "elapsed": 7,
     "status": "ok",
     "timestamp": 1684651688001,
     "user": {
      "displayName": "ML Enthusiastics",
      "userId": "10606133362371998928"
     },
     "user_tz": -360
    },
    "id": "PUuIym--vVUx",
    "outputId": "8c04cb2f-bcd8-4e0a-babf-6031f847ce75"
   },
   "outputs": [
    {
     "name": "stdout",
     "output_type": "stream",
     "text": [
      "28000\n"
     ]
    }
   ],
   "source": [
    "l=range(1000)\n",
    "print(sys.getsizeof(2)*len(l)) "
   ]
  },
  {
   "cell_type": "markdown",
   "metadata": {
    "id": "jaKx4V9PTNE1"
   },
   "source": [
    "#Comparison of time between Numpy array and python list"
   ]
  },
  {
   "cell_type": "code",
   "execution_count": 7,
   "metadata": {
    "colab": {
     "base_uri": "https://localhost:8080/"
    },
    "executionInfo": {
     "elapsed": 19722,
     "status": "ok",
     "timestamp": 1684651707719,
     "user": {
      "displayName": "ML Enthusiastics",
      "userId": "10606133362371998928"
     },
     "user_tz": -360
    },
    "id": "KcHFeIFNTVuh",
    "outputId": "091ca10a-46c6-4d78-a045-0cce5bdbd095"
   },
   "outputs": [
    {
     "name": "stdout",
     "output_type": "stream",
     "text": [
      "Python list took time: 18787.752389907837\n",
      "Numpy array took time : 416.5210723876953\n"
     ]
    }
   ],
   "source": [
    "size=100000000\n",
    "l1=range(size)\n",
    "l2=range(size)\n",
    "\n",
    "a1=np.arange(size)\n",
    "a2=np.arange(size)\n",
    "\n",
    "#python list \n",
    "start= time.time()\n",
    "result=[(x+y) for x,y in zip(l1,l2)]\n",
    "print(\"Python list took time:\",(time.time()-start)*1000)\n",
    "\n",
    "#numpy array\n",
    "start=time.time()\n",
    "result=a1+a2\n",
    "print(\"Numpy array took time :\",(time.time()-start)*1000)\n"
   ]
  },
  {
   "cell_type": "markdown",
   "metadata": {
    "id": "rhOqo-3miwGy"
   },
   "source": [
    "#zip"
   ]
  },
  {
   "cell_type": "code",
   "execution_count": 8,
   "metadata": {
    "colab": {
     "base_uri": "https://localhost:8080/"
    },
    "executionInfo": {
     "elapsed": 36,
     "status": "ok",
     "timestamp": 1684651707720,
     "user": {
      "displayName": "ML Enthusiastics",
      "userId": "10606133362371998928"
     },
     "user_tz": -360
    },
    "id": "boSdAJ-ii0Ri",
    "outputId": "ef8d65ad-debf-4b6d-f96d-dd5f6c1982f1"
   },
   "outputs": [
    {
     "name": "stdout",
     "output_type": "stream",
     "text": [
      "Zi1 denotes:  [('apple', 'fayez'), ('orange', 'udoy'), ('banana', 'ayon')]\n",
      "Zi2 denotes [('fayez', 'fayez'), ('udoy', 'udoy'), ('ayon', 'ayon')]\n",
      "Zi3 denotes [('apple', 'apple'), ('orange', 'orange'), ('banana', 'banana')]\n",
      "This zip denotes: [(0, 0, 0), (1, 1, 1), (2, 2, 2), (3, 3, 3), (4, 4, 4)]\n"
     ]
    }
   ],
   "source": [
    "l1=['apple','orange','banana']\n",
    "l2=['fayez','udoy','ayon']\n",
    "zi1=zip(l1,l2)\n",
    "zi2=zip(l2,l2)\n",
    "zi3=zip(l1,l1)\n",
    "print(\"Zi1 denotes: \",list(zi1))\n",
    "print(\"Zi2 denotes\", list(zi2))\n",
    "print(\"Zi3 denotes\", list(zi3))\n",
    "print(\"This zip denotes:\", list(zip(range(5),range(6),range(50))))"
   ]
  },
  {
   "cell_type": "markdown",
   "metadata": {
    "id": "IDQCC5I8l21L"
   },
   "source": [
    "#Basic array operation"
   ]
  },
  {
   "cell_type": "markdown",
   "metadata": {
    "id": "RLIAY_iPn3Zs"
   },
   "source": []
  },
  {
   "cell_type": "code",
   "execution_count": 9,
   "metadata": {
    "colab": {
     "base_uri": "https://localhost:8080/"
    },
    "executionInfo": {
     "elapsed": 31,
     "status": "ok",
     "timestamp": 1684651707720,
     "user": {
      "displayName": "ML Enthusiastics",
      "userId": "10606133362371998928"
     },
     "user_tz": -360
    },
    "id": "_g6B0IHzl-vZ",
    "outputId": "84b6459c-a8f4-443d-b044-ba02311dc7de"
   },
   "outputs": [
    {
     "name": "stdout",
     "output_type": "stream",
     "text": [
      "2\n"
     ]
    }
   ],
   "source": [
    "#ndim\n",
    "a=np.array([[1,2],[3,4],[5,6]])\n",
    "print(a.ndim)"
   ]
  },
  {
   "cell_type": "code",
   "execution_count": 10,
   "metadata": {
    "colab": {
     "base_uri": "https://localhost:8080/"
    },
    "executionInfo": {
     "elapsed": 29,
     "status": "ok",
     "timestamp": 1684651707721,
     "user": {
      "displayName": "ML Enthusiastics",
      "userId": "10606133362371998928"
     },
     "user_tz": -360
    },
    "id": "o0fcAGgdMyWW",
    "outputId": "3590e2e3-9220-4266-a650-736483174c27"
   },
   "outputs": [
    {
     "name": "stdout",
     "output_type": "stream",
     "text": [
      "1\n"
     ]
    }
   ],
   "source": [
    "a=np.array([5,6,7])\n",
    "print(a.ndim)"
   ]
  },
  {
   "cell_type": "code",
   "execution_count": 11,
   "metadata": {
    "colab": {
     "base_uri": "https://localhost:8080/"
    },
    "executionInfo": {
     "elapsed": 26,
     "status": "ok",
     "timestamp": 1684651707721,
     "user": {
      "displayName": "ML Enthusiastics",
      "userId": "10606133362371998928"
     },
     "user_tz": -360
    },
    "id": "GQiMBWXYMoBL",
    "outputId": "6505dcb6-e12f-4937-e2c5-c556087db6f0"
   },
   "outputs": [
    {
     "name": "stdout",
     "output_type": "stream",
     "text": [
      "8\n"
     ]
    }
   ],
   "source": [
    "#itemsize\n",
    "a=np.array([[1,2],[3,4],[5,6]])\n",
    "print(a.itemsize)"
   ]
  },
  {
   "cell_type": "code",
   "execution_count": 12,
   "metadata": {
    "colab": {
     "base_uri": "https://localhost:8080/"
    },
    "executionInfo": {
     "elapsed": 24,
     "status": "ok",
     "timestamp": 1684651707722,
     "user": {
      "displayName": "ML Enthusiastics",
      "userId": "10606133362371998928"
     },
     "user_tz": -360
    },
    "id": "PxqktrSCNXxS",
    "outputId": "62c1629c-7318-4a46-96f9-148b293d3063"
   },
   "outputs": [
    {
     "name": "stdout",
     "output_type": "stream",
     "text": [
      "8\n"
     ]
    }
   ],
   "source": [
    "a=np.array([5,6,7])\n",
    "print(a.itemsize)"
   ]
  },
  {
   "cell_type": "code",
   "execution_count": 13,
   "metadata": {
    "colab": {
     "base_uri": "https://localhost:8080/"
    },
    "executionInfo": {
     "elapsed": 21,
     "status": "ok",
     "timestamp": 1684651707722,
     "user": {
      "displayName": "ML Enthusiastics",
      "userId": "10606133362371998928"
     },
     "user_tz": -360
    },
    "id": "z-4wMcvWn_Fr",
    "outputId": "a7457729-4aac-4fe9-b514-f37e7eb54717"
   },
   "outputs": [
    {
     "name": "stdout",
     "output_type": "stream",
     "text": [
      "8\n",
      "[[1 2]\n",
      " [3 4]\n",
      " [5 6]]\n",
      "int64\n"
     ]
    }
   ],
   "source": [
    "#float,complex,dtype\n",
    "\n",
    "a=np.array([[1,2],[3,4],[5,6]])\n",
    "print(a.itemsize)\n",
    "print(a)\n",
    "print(a.dtype)"
   ]
  },
  {
   "cell_type": "code",
   "execution_count": 14,
   "metadata": {
    "colab": {
     "base_uri": "https://localhost:8080/"
    },
    "executionInfo": {
     "elapsed": 17,
     "status": "ok",
     "timestamp": 1684651707722,
     "user": {
      "displayName": "ML Enthusiastics",
      "userId": "10606133362371998928"
     },
     "user_tz": -360
    },
    "id": "FGDCj6KKOBud",
    "outputId": "da78b603-6912-4e56-e755-9be04cb11b9b"
   },
   "outputs": [
    {
     "name": "stdout",
     "output_type": "stream",
     "text": [
      "8\n",
      "[[1. 2.]\n",
      " [3. 4.]\n",
      " [5. 6.]]\n"
     ]
    }
   ],
   "source": [
    "a=np.array([[1,2],[3,4],[5,6]],dtype=np.float64)\n",
    "print(a.itemsize)\n",
    "print(a)"
   ]
  },
  {
   "cell_type": "code",
   "execution_count": 15,
   "metadata": {
    "colab": {
     "base_uri": "https://localhost:8080/"
    },
    "executionInfo": {
     "elapsed": 15,
     "status": "ok",
     "timestamp": 1684651707723,
     "user": {
      "displayName": "ML Enthusiastics",
      "userId": "10606133362371998928"
     },
     "user_tz": -360
    },
    "id": "9yjaOxQuOC2B",
    "outputId": "9fa13541-d40c-4058-91b0-a2a45f608b66"
   },
   "outputs": [
    {
     "name": "stdout",
     "output_type": "stream",
     "text": [
      "[[1.+0.j 2.+0.j]\n",
      " [3.+0.j 4.+0.j]\n",
      " [5.+0.j 6.+0.j]]\n"
     ]
    }
   ],
   "source": [
    "a=np.array([[1,2],[3,4],[5,6]],dtype=np.complex128)\n",
    "print(a)"
   ]
  },
  {
   "cell_type": "code",
   "execution_count": 16,
   "metadata": {
    "colab": {
     "base_uri": "https://localhost:8080/"
    },
    "executionInfo": {
     "elapsed": 12,
     "status": "ok",
     "timestamp": 1684651707723,
     "user": {
      "displayName": "ML Enthusiastics",
      "userId": "10606133362371998928"
     },
     "user_tz": -360
    },
    "id": "DgVkAulRvhbG",
    "outputId": "de4ca8e3-7dd1-49bc-c14b-c2ae6d3c20d7"
   },
   "outputs": [
    {
     "name": "stdout",
     "output_type": "stream",
     "text": [
      "6\n",
      "(3, 2)\n"
     ]
    }
   ],
   "source": [
    "#size, shape\n",
    "\n",
    "a=np.array([[1,2],[3,4],[5,6]])\n",
    "print(a.size)\n",
    "print(a.shape)"
   ]
  },
  {
   "cell_type": "code",
   "execution_count": 80,
   "metadata": {
    "colab": {
     "base_uri": "https://localhost:8080/"
    },
    "executionInfo": {
     "elapsed": 441,
     "status": "ok",
     "timestamp": 1684651923991,
     "user": {
      "displayName": "ML Enthusiastics",
      "userId": "10606133362371998928"
     },
     "user_tz": -360
    },
    "id": "GWAWiCHAxQL1",
    "outputId": "697017e0-cb74-4af5-a52c-549d10a206d3"
   },
   "outputs": [
    {
     "name": "stdout",
     "output_type": "stream",
     "text": [
      "[[0. 0. 0.]\n",
      " [0. 0. 0.]\n",
      " [0. 0. 0.]]\n"
     ]
    }
   ],
   "source": [
    "a=np.zeros((3,3))\n",
    "print(a)"
   ]
  },
  {
   "cell_type": "code",
   "execution_count": 18,
   "metadata": {
    "colab": {
     "base_uri": "https://localhost:8080/"
    },
    "executionInfo": {
     "elapsed": 136,
     "status": "ok",
     "timestamp": 1684651710983,
     "user": {
      "displayName": "ML Enthusiastics",
      "userId": "10606133362371998928"
     },
     "user_tz": -360
    },
    "id": "EDf6nXzKSczq",
    "outputId": "cf2875f1-13b5-4695-e647-754b20c113af"
   },
   "outputs": [
    {
     "name": "stdout",
     "output_type": "stream",
     "text": [
      "[[1. 1.]\n",
      " [1. 1.]\n",
      " [1. 1.]]\n"
     ]
    }
   ],
   "source": [
    "b=np.ones((3,2))\n",
    "print(b)"
   ]
  },
  {
   "cell_type": "code",
   "execution_count": 19,
   "metadata": {
    "colab": {
     "base_uri": "https://localhost:8080/"
    },
    "executionInfo": {
     "elapsed": 133,
     "status": "ok",
     "timestamp": 1684651710984,
     "user": {
      "displayName": "ML Enthusiastics",
      "userId": "10606133362371998928"
     },
     "user_tz": -360
    },
    "id": "GKTP1WmGS2pa",
    "outputId": "f8436893-1486-4bd3-9a33-cf2e5de3ba6d"
   },
   "outputs": [
    {
     "name": "stdout",
     "output_type": "stream",
     "text": [
      "range(0, 5)\n",
      "4\n",
      "2\n"
     ]
    }
   ],
   "source": [
    "l=range(5)\n",
    "print(l)\n",
    "print(l[4])\n",
    "print(l[2])"
   ]
  },
  {
   "cell_type": "code",
   "execution_count": 20,
   "metadata": {
    "colab": {
     "base_uri": "https://localhost:8080/"
    },
    "executionInfo": {
     "elapsed": 127,
     "status": "ok",
     "timestamp": 1684651710984,
     "user": {
      "displayName": "ML Enthusiastics",
      "userId": "10606133362371998928"
     },
     "user_tz": -360
    },
    "id": "at5eVceITHGS",
    "outputId": "8119bd48-6e31-4521-ab66-029e577699bf"
   },
   "outputs": [
    {
     "name": "stdout",
     "output_type": "stream",
     "text": [
      "[1 3]\n",
      "[ 5 10 15 20 25 30 35 40 45 50 55 60 65 70 75 80 85 90 95]\n"
     ]
    }
   ],
   "source": [
    "a=np.arange(1, 5,2)\n",
    "print(a)\n",
    "a=np.arange(5,100,5)\n",
    "print(a)"
   ]
  },
  {
   "cell_type": "code",
   "execution_count": 21,
   "metadata": {
    "colab": {
     "base_uri": "https://localhost:8080/"
    },
    "executionInfo": {
     "elapsed": 124,
     "status": "ok",
     "timestamp": 1684651710985,
     "user": {
      "displayName": "ML Enthusiastics",
      "userId": "10606133362371998928"
     },
     "user_tz": -360
    },
    "id": "hgr1SUC40WTm",
    "outputId": "e1c35fbc-f31b-4d10-d914-b077937a65c8"
   },
   "outputs": [
    {
     "name": "stdout",
     "output_type": "stream",
     "text": [
      "[1.         1.44444444 1.88888889 2.33333333 2.77777778 3.22222222\n",
      " 3.66666667 4.11111111 4.55555556 5.        ]\n"
     ]
    }
   ],
   "source": [
    "a=np.linspace(1,5,10)\n",
    "print(a)"
   ]
  },
  {
   "cell_type": "code",
   "execution_count": 22,
   "metadata": {
    "colab": {
     "base_uri": "https://localhost:8080/"
    },
    "executionInfo": {
     "elapsed": 119,
     "status": "ok",
     "timestamp": 1684651710985,
     "user": {
      "displayName": "ML Enthusiastics",
      "userId": "10606133362371998928"
     },
     "user_tz": -360
    },
    "id": "_hI5CXEZ1HEa",
    "outputId": "11bc9e08-a1d0-4ac3-de51-b1b1257bafd6"
   },
   "outputs": [
    {
     "name": "stdout",
     "output_type": "stream",
     "text": [
      "[ 1.          1.47368421  1.94736842  2.42105263  2.89473684  3.36842105\n",
      "  3.84210526  4.31578947  4.78947368  5.26315789  5.73684211  6.21052632\n",
      "  6.68421053  7.15789474  7.63157895  8.10526316  8.57894737  9.05263158\n",
      "  9.52631579 10.        ]\n"
     ]
    }
   ],
   "source": [
    "a=np.linspace(1,10,20)\n",
    "print(a)"
   ]
  },
  {
   "cell_type": "code",
   "execution_count": 23,
   "metadata": {
    "colab": {
     "base_uri": "https://localhost:8080/"
    },
    "executionInfo": {
     "elapsed": 115,
     "status": "ok",
     "timestamp": 1684651710986,
     "user": {
      "displayName": "ML Enthusiastics",
      "userId": "10606133362371998928"
     },
     "user_tz": -360
    },
    "id": "v1UjdceD1l5h",
    "outputId": "91bcf730-997b-46bd-91a9-1d673dbf0863"
   },
   "outputs": [
    {
     "name": "stdout",
     "output_type": "stream",
     "text": [
      "The shape of NumPy array is:  (3, 2)\n",
      "The NumPy array before reshape: \n",
      "\n",
      " [[1 2]\n",
      " [4 5]\n",
      " [7 8]]\n"
     ]
    }
   ],
   "source": [
    "a=np.array([[1,2],[4,5],[7,8]])\n",
    "print(\"The shape of NumPy array is: \", a.shape)\n",
    "\n",
    "print(\"The NumPy array before reshape: \\n\\n\", a)"
   ]
  },
  {
   "cell_type": "code",
   "execution_count": 24,
   "metadata": {
    "colab": {
     "base_uri": "https://localhost:8080/"
    },
    "executionInfo": {
     "elapsed": 111,
     "status": "ok",
     "timestamp": 1684651710988,
     "user": {
      "displayName": "ML Enthusiastics",
      "userId": "10606133362371998928"
     },
     "user_tz": -360
    },
    "id": "lxKPNP7L2kZQ",
    "outputId": "05af9d1a-d2b4-465d-ff4d-e6f0d2b4bd5a"
   },
   "outputs": [
    {
     "name": "stdout",
     "output_type": "stream",
     "text": [
      "[[1 2 4]\n",
      " [5 7 8]]\n"
     ]
    }
   ],
   "source": [
    "print(a.reshape(2,3))"
   ]
  },
  {
   "cell_type": "code",
   "execution_count": 25,
   "metadata": {
    "colab": {
     "base_uri": "https://localhost:8080/"
    },
    "executionInfo": {
     "elapsed": 109,
     "status": "ok",
     "timestamp": 1684651710989,
     "user": {
      "displayName": "ML Enthusiastics",
      "userId": "10606133362371998928"
     },
     "user_tz": -360
    },
    "id": "y-KpT4IP2v03",
    "outputId": "9fbcb019-d8b7-4043-d935-7cd35f122aa0"
   },
   "outputs": [
    {
     "name": "stdout",
     "output_type": "stream",
     "text": [
      "[[1]\n",
      " [2]\n",
      " [4]\n",
      " [5]\n",
      " [7]\n",
      " [8]]\n"
     ]
    }
   ],
   "source": [
    "print(a.reshape(6,1))"
   ]
  },
  {
   "cell_type": "code",
   "execution_count": 26,
   "metadata": {
    "colab": {
     "base_uri": "https://localhost:8080/"
    },
    "executionInfo": {
     "elapsed": 107,
     "status": "ok",
     "timestamp": 1684651710990,
     "user": {
      "displayName": "ML Enthusiastics",
      "userId": "10606133362371998928"
     },
     "user_tz": -360
    },
    "id": "EE93xk5R21eP",
    "outputId": "fbe322eb-e84f-4d58-a304-a96a2bc86a87"
   },
   "outputs": [
    {
     "name": "stdout",
     "output_type": "stream",
     "text": [
      "[[1 2]\n",
      " [4 5]\n",
      " [7 8]]\n",
      "\n",
      "\n",
      "[1 2 4 5 7 8]\n"
     ]
    }
   ],
   "source": [
    "print(a)\n",
    "print(\"\\n\")\n",
    "print(a.ravel())"
   ]
  },
  {
   "cell_type": "code",
   "execution_count": 27,
   "metadata": {
    "colab": {
     "base_uri": "https://localhost:8080/"
    },
    "executionInfo": {
     "elapsed": 101,
     "status": "ok",
     "timestamp": 1684651710991,
     "user": {
      "displayName": "ML Enthusiastics",
      "userId": "10606133362371998928"
     },
     "user_tz": -360
    },
    "id": "D3c5bXph3SWY",
    "outputId": "65efa0a2-cf31-4297-9bb1-94473c4f1de8"
   },
   "outputs": [
    {
     "name": "stdout",
     "output_type": "stream",
     "text": [
      "[[1 2]\n",
      " [4 5]\n",
      " [7 8]]\n",
      "\n",
      "\n",
      "The max value of the array is:  8\n",
      "\n",
      "\n",
      "The min value of the array is:  1\n"
     ]
    }
   ],
   "source": [
    "print(a)\n",
    "print(\"\\n\")\n",
    "print(\"The max value of the array is: \",a.max())\n",
    "print(\"\\n\")\n",
    "print(\"The min value of the array is: \",a.min())"
   ]
  },
  {
   "cell_type": "code",
   "execution_count": 28,
   "metadata": {
    "colab": {
     "base_uri": "https://localhost:8080/"
    },
    "executionInfo": {
     "elapsed": 98,
     "status": "ok",
     "timestamp": 1684651710992,
     "user": {
      "displayName": "ML Enthusiastics",
      "userId": "10606133362371998928"
     },
     "user_tz": -360
    },
    "id": "BJD1Rpl03gG0",
    "outputId": "afb2c690-5131-4f52-ba79-880156c4189e"
   },
   "outputs": [
    {
     "name": "stdout",
     "output_type": "stream",
     "text": [
      "[[1 2]\n",
      " [4 5]\n",
      " [7 8]]\n",
      "\n",
      "\n",
      "27\n"
     ]
    }
   ],
   "source": [
    "print(a)\n",
    "print(\"\\n\")\n",
    "print(a.sum())"
   ]
  },
  {
   "cell_type": "code",
   "execution_count": 29,
   "metadata": {
    "colab": {
     "base_uri": "https://localhost:8080/"
    },
    "executionInfo": {
     "elapsed": 97,
     "status": "ok",
     "timestamp": 1684651710994,
     "user": {
      "displayName": "ML Enthusiastics",
      "userId": "10606133362371998928"
     },
     "user_tz": -360
    },
    "id": "FDSbD-lQ3t0m",
    "outputId": "5c19721f-af80-45a7-a930-05d3b077dbda"
   },
   "outputs": [
    {
     "name": "stdout",
     "output_type": "stream",
     "text": [
      "[12 15]\n"
     ]
    }
   ],
   "source": [
    "print(a.sum(axis=0))"
   ]
  },
  {
   "cell_type": "code",
   "execution_count": 30,
   "metadata": {
    "colab": {
     "base_uri": "https://localhost:8080/"
    },
    "executionInfo": {
     "elapsed": 93,
     "status": "ok",
     "timestamp": 1684651710995,
     "user": {
      "displayName": "ML Enthusiastics",
      "userId": "10606133362371998928"
     },
     "user_tz": -360
    },
    "id": "bxTJ-p363y5_",
    "outputId": "f9621598-de45-4a85-bc39-bc207b7c7fd7"
   },
   "outputs": [
    {
     "name": "stdout",
     "output_type": "stream",
     "text": [
      "[ 3  9 15]\n"
     ]
    }
   ],
   "source": [
    "print(a.sum(axis=1))"
   ]
  },
  {
   "cell_type": "code",
   "execution_count": 31,
   "metadata": {
    "colab": {
     "base_uri": "https://localhost:8080/"
    },
    "executionInfo": {
     "elapsed": 87,
     "status": "ok",
     "timestamp": 1684651710995,
     "user": {
      "displayName": "ML Enthusiastics",
      "userId": "10606133362371998928"
     },
     "user_tz": -360
    },
    "id": "mVqj_F-Z4imM",
    "outputId": "8d988184-2a54-4abd-e97c-2070c2f57997"
   },
   "outputs": [
    {
     "name": "stdout",
     "output_type": "stream",
     "text": [
      "[[1.         1.41421356]\n",
      " [2.         2.23606798]\n",
      " [2.64575131 2.82842712]]\n"
     ]
    }
   ],
   "source": [
    "print(np.sqrt(a))"
   ]
  },
  {
   "cell_type": "code",
   "execution_count": 32,
   "metadata": {
    "colab": {
     "base_uri": "https://localhost:8080/"
    },
    "executionInfo": {
     "elapsed": 84,
     "status": "ok",
     "timestamp": 1684651710996,
     "user": {
      "displayName": "ML Enthusiastics",
      "userId": "10606133362371998928"
     },
     "user_tz": -360
    },
    "id": "lATeyrXT44Rr",
    "outputId": "bcc9358e-6683-4586-e73f-abe95a2e48d3"
   },
   "outputs": [
    {
     "name": "stdout",
     "output_type": "stream",
     "text": [
      "[[ 6  8]\n",
      " [10 12]]\n"
     ]
    }
   ],
   "source": [
    "a=np.array([[1,2],[3,4]])\n",
    "b=np.array([[5,6],[7,8]])\n",
    "print(a+b)"
   ]
  },
  {
   "cell_type": "code",
   "execution_count": 33,
   "metadata": {
    "colab": {
     "base_uri": "https://localhost:8080/"
    },
    "executionInfo": {
     "elapsed": 81,
     "status": "ok",
     "timestamp": 1684651710997,
     "user": {
      "displayName": "ML Enthusiastics",
      "userId": "10606133362371998928"
     },
     "user_tz": -360
    },
    "id": "lKRcPtkx5W7_",
    "outputId": "0ec6076c-5393-46a0-cd23-e1c8a5be51de"
   },
   "outputs": [
    {
     "name": "stdout",
     "output_type": "stream",
     "text": [
      "[[-4 -4]\n",
      " [-4 -4]]\n"
     ]
    }
   ],
   "source": [
    "\n",
    "print(a-b)"
   ]
  },
  {
   "cell_type": "code",
   "execution_count": 34,
   "metadata": {
    "colab": {
     "base_uri": "https://localhost:8080/"
    },
    "executionInfo": {
     "elapsed": 76,
     "status": "ok",
     "timestamp": 1684651710997,
     "user": {
      "displayName": "ML Enthusiastics",
      "userId": "10606133362371998928"
     },
     "user_tz": -360
    },
    "id": "-n_Cv3KI5ZZ7",
    "outputId": "6203fc94-baf2-4964-c6dc-edef9aa48758"
   },
   "outputs": [
    {
     "name": "stdout",
     "output_type": "stream",
     "text": [
      "[[0.2        0.33333333]\n",
      " [0.42857143 0.5       ]]\n"
     ]
    }
   ],
   "source": [
    "\n",
    "print(a/b)"
   ]
  },
  {
   "cell_type": "code",
   "execution_count": 35,
   "metadata": {
    "colab": {
     "base_uri": "https://localhost:8080/"
    },
    "executionInfo": {
     "elapsed": 70,
     "status": "ok",
     "timestamp": 1684651710998,
     "user": {
      "displayName": "ML Enthusiastics",
      "userId": "10606133362371998928"
     },
     "user_tz": -360
    },
    "id": "G8k_Jz5e5boj",
    "outputId": "0c44b832-b8c1-47db-978f-af26f95ea11c"
   },
   "outputs": [
    {
     "name": "stdout",
     "output_type": "stream",
     "text": [
      "[[ 5 12]\n",
      " [21 32]]\n"
     ]
    }
   ],
   "source": [
    "\n",
    "print(a*b)"
   ]
  },
  {
   "cell_type": "code",
   "execution_count": 36,
   "metadata": {
    "colab": {
     "base_uri": "https://localhost:8080/"
    },
    "executionInfo": {
     "elapsed": 66,
     "status": "ok",
     "timestamp": 1684651710999,
     "user": {
      "displayName": "ML Enthusiastics",
      "userId": "10606133362371998928"
     },
     "user_tz": -360
    },
    "id": "1Zle9QrI5dta",
    "outputId": "011bf67c-1abc-4375-eee6-eeddaa2fb8af"
   },
   "outputs": [
    {
     "name": "stdout",
     "output_type": "stream",
     "text": [
      "[[19 22]\n",
      " [43 50]]\n"
     ]
    }
   ],
   "source": [
    "\n",
    "print(a.dot(b))"
   ]
  },
  {
   "cell_type": "markdown",
   "metadata": {
    "id": "dAlu8T3ZN1e5"
   },
   "source": [
    "#indexing of numpy array"
   ]
  },
  {
   "cell_type": "code",
   "execution_count": 93,
   "metadata": {
    "colab": {
     "base_uri": "https://localhost:8080/"
    },
    "executionInfo": {
     "elapsed": 4,
     "status": "ok",
     "timestamp": 1684653099438,
     "user": {
      "displayName": "ML Enthusiastics",
      "userId": "10606133362371998928"
     },
     "user_tz": -360
    },
    "id": "nft3Yk6lN6L3",
    "outputId": "d7bac57c-f351-4b31-9222-812dec89f1ce"
   },
   "outputs": [
    {
     "name": "stdout",
     "output_type": "stream",
     "text": [
      "[1, 2, 3]\n"
     ]
    }
   ],
   "source": [
    "m=[1,2,3,4]\n",
    "print(l[0:3])"
   ]
  },
  {
   "cell_type": "code",
   "execution_count": 38,
   "metadata": {
    "colab": {
     "base_uri": "https://localhost:8080/"
    },
    "executionInfo": {
     "elapsed": 55,
     "status": "ok",
     "timestamp": 1684651711000,
     "user": {
      "displayName": "ML Enthusiastics",
      "userId": "10606133362371998928"
     },
     "user_tz": -360
    },
    "id": "Z13JT-jZPm1d",
    "outputId": "26877f2e-5441-42d0-f42c-e4888cc5a9f0"
   },
   "outputs": [
    {
     "name": "stdout",
     "output_type": "stream",
     "text": [
      "[1, 2, 3, 4]\n"
     ]
    }
   ],
   "source": [
    "print(l[:])"
   ]
  },
  {
   "cell_type": "code",
   "execution_count": 39,
   "metadata": {
    "colab": {
     "base_uri": "https://localhost:8080/"
    },
    "executionInfo": {
     "elapsed": 51,
     "status": "ok",
     "timestamp": 1684651711001,
     "user": {
      "displayName": "ML Enthusiastics",
      "userId": "10606133362371998928"
     },
     "user_tz": -360
    },
    "id": "zW7hNh_aPvzG",
    "outputId": "e2203807-2eca-4eda-f3c8-6f63d874c3b3"
   },
   "outputs": [
    {
     "name": "stdout",
     "output_type": "stream",
     "text": [
      "[1, 2, 3]\n"
     ]
    }
   ],
   "source": [
    "print(l[:-1])"
   ]
  },
  {
   "cell_type": "code",
   "execution_count": 40,
   "metadata": {
    "colab": {
     "base_uri": "https://localhost:8080/"
    },
    "executionInfo": {
     "elapsed": 44,
     "status": "ok",
     "timestamp": 1684651711001,
     "user": {
      "displayName": "ML Enthusiastics",
      "userId": "10606133362371998928"
     },
     "user_tz": -360
    },
    "id": "DW36gZefP608",
    "outputId": "a9864bf1-d182-4b67-eb9d-d831416e62f2"
   },
   "outputs": [
    {
     "name": "stdout",
     "output_type": "stream",
     "text": [
      "[6 7 8]\n"
     ]
    }
   ],
   "source": [
    "#indexing of numpy array\n",
    "\n",
    "\n",
    "a=np.array([6,7,8])\n",
    "print(a[:])"
   ]
  },
  {
   "cell_type": "code",
   "execution_count": 41,
   "metadata": {
    "colab": {
     "base_uri": "https://localhost:8080/"
    },
    "executionInfo": {
     "elapsed": 1036,
     "status": "ok",
     "timestamp": 1684651711998,
     "user": {
      "displayName": "ML Enthusiastics",
      "userId": "10606133362371998928"
     },
     "user_tz": -360
    },
    "id": "R84yMOL5QTT4",
    "outputId": "23ba39ce-1d4e-412d-9d36-e08f956db632"
   },
   "outputs": [
    {
     "name": "stdout",
     "output_type": "stream",
     "text": [
      "8\n"
     ]
    }
   ],
   "source": [
    "print(a[-1])"
   ]
  },
  {
   "cell_type": "code",
   "execution_count": 42,
   "metadata": {
    "colab": {
     "base_uri": "https://localhost:8080/"
    },
    "executionInfo": {
     "elapsed": 362,
     "status": "ok",
     "timestamp": 1684651712017,
     "user": {
      "displayName": "ML Enthusiastics",
      "userId": "10606133362371998928"
     },
     "user_tz": -360
    },
    "id": "rLKB-qc9QYBB",
    "outputId": "0d4cc382-c385-4b6f-e9c7-34b3d88b510e"
   },
   "outputs": [
    {
     "name": "stdout",
     "output_type": "stream",
     "text": [
      "[[6 7 8]\n",
      " [1 2 3]\n",
      " [9 3 2]]\n"
     ]
    }
   ],
   "source": [
    "#multidimentional array\n",
    "a=np.array([[6,7,8],[1,2,3],[9,3,2]])\n",
    "print(a)"
   ]
  },
  {
   "cell_type": "code",
   "execution_count": 43,
   "metadata": {
    "colab": {
     "base_uri": "https://localhost:8080/"
    },
    "executionInfo": {
     "elapsed": 343,
     "status": "ok",
     "timestamp": 1684651712019,
     "user": {
      "displayName": "ML Enthusiastics",
      "userId": "10606133362371998928"
     },
     "user_tz": -360
    },
    "id": "qYHZ2osLRWog",
    "outputId": "6c4fb8ea-bdef-495a-a09f-70e14375c45c"
   },
   "outputs": [
    {
     "name": "stdout",
     "output_type": "stream",
     "text": [
      "2\n"
     ]
    }
   ],
   "source": [
    "print(a[2,2])"
   ]
  },
  {
   "cell_type": "code",
   "execution_count": 44,
   "metadata": {
    "colab": {
     "base_uri": "https://localhost:8080/"
    },
    "executionInfo": {
     "elapsed": 284,
     "status": "ok",
     "timestamp": 1684651712020,
     "user": {
      "displayName": "ML Enthusiastics",
      "userId": "10606133362371998928"
     },
     "user_tz": -360
    },
    "id": "fOT6FYv_RtWF",
    "outputId": "8d1f24ed-4371-4e8e-d95f-93c1fb56cf51"
   },
   "outputs": [
    {
     "name": "stdout",
     "output_type": "stream",
     "text": [
      "[8 3]\n"
     ]
    }
   ],
   "source": [
    "print(a[0:2,2])"
   ]
  },
  {
   "cell_type": "code",
   "execution_count": 45,
   "metadata": {
    "colab": {
     "base_uri": "https://localhost:8080/"
    },
    "executionInfo": {
     "elapsed": 256,
     "status": "ok",
     "timestamp": 1684651712021,
     "user": {
      "displayName": "ML Enthusiastics",
      "userId": "10606133362371998928"
     },
     "user_tz": -360
    },
    "id": "6KJhOPY6SDXt",
    "outputId": "ecbcd6b7-9237-4b8a-9c66-f7ae14184351"
   },
   "outputs": [
    {
     "name": "stdout",
     "output_type": "stream",
     "text": [
      "[7 8]\n"
     ]
    }
   ],
   "source": [
    "print(a[0,1:3])"
   ]
  },
  {
   "cell_type": "code",
   "execution_count": 46,
   "metadata": {
    "colab": {
     "base_uri": "https://localhost:8080/"
    },
    "executionInfo": {
     "elapsed": 245,
     "status": "ok",
     "timestamp": 1684651712022,
     "user": {
      "displayName": "ML Enthusiastics",
      "userId": "10606133362371998928"
     },
     "user_tz": -360
    },
    "id": "CaU91X8OSaq0",
    "outputId": "fe9b818d-892e-499f-9f41-0d5dc1cfb367"
   },
   "outputs": [
    {
     "name": "stdout",
     "output_type": "stream",
     "text": [
      "[9 3 2]\n"
     ]
    }
   ],
   "source": [
    "print(a[-1])"
   ]
  },
  {
   "cell_type": "code",
   "execution_count": 47,
   "metadata": {
    "colab": {
     "base_uri": "https://localhost:8080/"
    },
    "executionInfo": {
     "elapsed": 227,
     "status": "ok",
     "timestamp": 1684651712023,
     "user": {
      "displayName": "ML Enthusiastics",
      "userId": "10606133362371998928"
     },
     "user_tz": -360
    },
    "id": "k4eJVTQBS6Nj",
    "outputId": "af74f7d2-fd20-4467-9a64-5e118acfd1cc"
   },
   "outputs": [
    {
     "name": "stdout",
     "output_type": "stream",
     "text": [
      "[9 3]\n"
     ]
    }
   ],
   "source": [
    "print(a[-1,0:2])"
   ]
  },
  {
   "cell_type": "code",
   "execution_count": 48,
   "metadata": {
    "colab": {
     "base_uri": "https://localhost:8080/"
    },
    "executionInfo": {
     "elapsed": 218,
     "status": "ok",
     "timestamp": 1684651712024,
     "user": {
      "displayName": "ML Enthusiastics",
      "userId": "10606133362371998928"
     },
     "user_tz": -360
    },
    "id": "nTHcQBl7TDvb",
    "outputId": "804b9a2d-ffe7-4897-b990-7e2b757c84bb"
   },
   "outputs": [
    {
     "name": "stdout",
     "output_type": "stream",
     "text": [
      "[[6 7 8]\n",
      " [1 2 3]\n",
      " [9 3 2]]\n"
     ]
    }
   ],
   "source": [
    "print(a[:,0:3])"
   ]
  },
  {
   "cell_type": "markdown",
   "metadata": {
    "id": "w_Si40zvTM6-"
   },
   "source": [
    "#Iterating of numpy array\n"
   ]
  },
  {
   "cell_type": "code",
   "execution_count": 81,
   "metadata": {
    "colab": {
     "base_uri": "https://localhost:8080/"
    },
    "executionInfo": {
     "elapsed": 3,
     "status": "ok",
     "timestamp": 1684652282074,
     "user": {
      "displayName": "ML Enthusiastics",
      "userId": "10606133362371998928"
     },
     "user_tz": -360
    },
    "id": "PKJSU_E9TUQL",
    "outputId": "c9616a7a-37d6-4b10-dcfc-8d5cccfa5421"
   },
   "outputs": [
    {
     "name": "stdout",
     "output_type": "stream",
     "text": [
      "[[ 6 10  8]\n",
      " [ 0  0 12]\n",
      " [ 2 30  5]]\n"
     ]
    }
   ],
   "source": [
    "a=np.array([[6,10,8],[0,0,12],[2,30,5]])\n",
    "print(a)"
   ]
  },
  {
   "cell_type": "code",
   "execution_count": 82,
   "metadata": {
    "colab": {
     "base_uri": "https://localhost:8080/"
    },
    "executionInfo": {
     "elapsed": 457,
     "status": "ok",
     "timestamp": 1684652340908,
     "user": {
      "displayName": "ML Enthusiastics",
      "userId": "10606133362371998928"
     },
     "user_tz": -360
    },
    "id": "Edy674fCTKSC",
    "outputId": "3f3f4bfc-1019-4317-ea16-73cc1519ef03"
   },
   "outputs": [
    {
     "name": "stdout",
     "output_type": "stream",
     "text": [
      "[ 6 10  8]\n",
      "[ 0  0 12]\n",
      "[ 2 30  5]\n"
     ]
    }
   ],
   "source": [
    "for row in a:\n",
    "  print(row)"
   ]
  },
  {
   "cell_type": "code",
   "execution_count": 51,
   "metadata": {
    "colab": {
     "base_uri": "https://localhost:8080/"
    },
    "executionInfo": {
     "elapsed": 193,
     "status": "ok",
     "timestamp": 1684651712026,
     "user": {
      "displayName": "ML Enthusiastics",
      "userId": "10606133362371998928"
     },
     "user_tz": -360
    },
    "id": "Owpf2_gmY-Kz",
    "outputId": "5368ba45-7989-4703-9f4f-29e5334d46f8"
   },
   "outputs": [
    {
     "name": "stdout",
     "output_type": "stream",
     "text": [
      "[6 7 8]\n",
      "[1 2 3]\n",
      "[9 3 2]\n"
     ]
    }
   ],
   "source": [
    "for cell in a:\n",
    "  print(cell)"
   ]
  },
  {
   "cell_type": "code",
   "execution_count": 52,
   "metadata": {
    "colab": {
     "base_uri": "https://localhost:8080/"
    },
    "executionInfo": {
     "elapsed": 189,
     "status": "ok",
     "timestamp": 1684651712027,
     "user": {
      "displayName": "ML Enthusiastics",
      "userId": "10606133362371998928"
     },
     "user_tz": -360
    },
    "id": "w4zhg3mgZDgA",
    "outputId": "21153a9b-2bd0-419a-a1ef-b99ea4b13b08"
   },
   "outputs": [
    {
     "name": "stdout",
     "output_type": "stream",
     "text": [
      "6\n",
      "7\n",
      "8\n",
      "1\n",
      "2\n",
      "3\n",
      "9\n",
      "3\n",
      "2\n"
     ]
    }
   ],
   "source": [
    "for cell in a.flat:\n",
    "  print(cell)"
   ]
  },
  {
   "cell_type": "code",
   "execution_count": 53,
   "metadata": {
    "colab": {
     "base_uri": "https://localhost:8080/"
    },
    "executionInfo": {
     "elapsed": 182,
     "status": "ok",
     "timestamp": 1684651712027,
     "user": {
      "displayName": "ML Enthusiastics",
      "userId": "10606133362371998928"
     },
     "user_tz": -360
    },
    "id": "U2DgketmZMF_",
    "outputId": "8e55f471-3819-4954-da59-a96a71625db8"
   },
   "outputs": [
    {
     "name": "stdout",
     "output_type": "stream",
     "text": [
      "6\n",
      "7\n",
      "8\n",
      "1\n",
      "2\n",
      "3\n",
      "9\n",
      "3\n",
      "2\n"
     ]
    }
   ],
   "source": [
    "for row in a.flat:\n",
    "  print(row)"
   ]
  },
  {
   "cell_type": "markdown",
   "metadata": {
    "id": "n7BbvoxvahlG"
   },
   "source": [
    "#stacks on numpy array\n"
   ]
  },
  {
   "cell_type": "code",
   "execution_count": 87,
   "metadata": {
    "colab": {
     "base_uri": "https://localhost:8080/"
    },
    "executionInfo": {
     "elapsed": 11,
     "status": "ok",
     "timestamp": 1684652518388,
     "user": {
      "displayName": "ML Enthusiastics",
      "userId": "10606133362371998928"
     },
     "user_tz": -360
    },
    "id": "klnB4eFZamxU",
    "outputId": "cda254de-b14b-45f1-e6bf-549395c3fe5d"
   },
   "outputs": [
    {
     "name": "stdout",
     "output_type": "stream",
     "text": [
      "[0 1 2 3 4 5]\n"
     ]
    }
   ],
   "source": [
    "a=np.arange(6)\n",
    "print(a)"
   ]
  },
  {
   "cell_type": "code",
   "execution_count": 88,
   "metadata": {
    "colab": {
     "base_uri": "https://localhost:8080/"
    },
    "executionInfo": {
     "elapsed": 3,
     "status": "ok",
     "timestamp": 1684652521987,
     "user": {
      "displayName": "ML Enthusiastics",
      "userId": "10606133362371998928"
     },
     "user_tz": -360
    },
    "id": "99WL1mhlbFX8",
    "outputId": "65862d93-710a-451b-cf8b-30d55cc34859"
   },
   "outputs": [
    {
     "name": "stdout",
     "output_type": "stream",
     "text": [
      "[[0 1]\n",
      " [2 3]\n",
      " [4 5]]\n"
     ]
    }
   ],
   "source": [
    "a=np.arange(6).reshape(3,2)\n",
    "print(a)"
   ]
  },
  {
   "cell_type": "code",
   "execution_count": 89,
   "metadata": {
    "colab": {
     "base_uri": "https://localhost:8080/"
    },
    "executionInfo": {
     "elapsed": 473,
     "status": "ok",
     "timestamp": 1684652617379,
     "user": {
      "displayName": "ML Enthusiastics",
      "userId": "10606133362371998928"
     },
     "user_tz": -360
    },
    "id": "yDAb-sN8bfML",
    "outputId": "2725cdc0-48dd-4247-e210-088d2adb73e2"
   },
   "outputs": [
    {
     "name": "stdout",
     "output_type": "stream",
     "text": [
      "[[ 6  7]\n",
      " [ 8  9]\n",
      " [10 11]]\n"
     ]
    }
   ],
   "source": [
    "b=np.arange(6,12).reshape(3,2)\n",
    "print(b)"
   ]
  },
  {
   "cell_type": "code",
   "execution_count": 92,
   "metadata": {
    "colab": {
     "base_uri": "https://localhost:8080/"
    },
    "executionInfo": {
     "elapsed": 444,
     "status": "ok",
     "timestamp": 1684652786405,
     "user": {
      "displayName": "ML Enthusiastics",
      "userId": "10606133362371998928"
     },
     "user_tz": -360
    },
    "id": "n22CyyBFb-2g",
    "outputId": "625b8877-9e08-499d-eb4f-6eb3970a9b7a"
   },
   "outputs": [
    {
     "name": "stdout",
     "output_type": "stream",
     "text": [
      "[[ 0  1]\n",
      " [ 2  3]\n",
      " [ 4  5]\n",
      " [ 6  7]\n",
      " [ 8  9]\n",
      " [10 11]]\n"
     ]
    }
   ],
   "source": [
    "print(np.vstack((a,b)))"
   ]
  },
  {
   "cell_type": "code",
   "execution_count": 58,
   "metadata": {
    "colab": {
     "base_uri": "https://localhost:8080/"
    },
    "executionInfo": {
     "elapsed": 153,
     "status": "ok",
     "timestamp": 1684651712030,
     "user": {
      "displayName": "ML Enthusiastics",
      "userId": "10606133362371998928"
     },
     "user_tz": -360
    },
    "id": "coaITh8zcMSA",
    "outputId": "9b388754-9028-41d3-dd27-1d64fe964b01"
   },
   "outputs": [
    {
     "name": "stdout",
     "output_type": "stream",
     "text": [
      "[[ 6  7]\n",
      " [ 8  9]\n",
      " [10 11]\n",
      " [ 0  1]\n",
      " [ 2  3]\n",
      " [ 4  5]]\n"
     ]
    }
   ],
   "source": [
    "print(np.vstack((b,a)))"
   ]
  },
  {
   "cell_type": "code",
   "execution_count": 59,
   "metadata": {
    "colab": {
     "base_uri": "https://localhost:8080/"
    },
    "executionInfo": {
     "elapsed": 151,
     "status": "ok",
     "timestamp": 1684651712031,
     "user": {
      "displayName": "ML Enthusiastics",
      "userId": "10606133362371998928"
     },
     "user_tz": -360
    },
    "id": "B_3tcVp1cTQy",
    "outputId": "1cfd0a17-6e92-4ba7-9207-24e950b991e2"
   },
   "outputs": [
    {
     "name": "stdout",
     "output_type": "stream",
     "text": [
      "[[ 0  1  6  7]\n",
      " [ 2  3  8  9]\n",
      " [ 4  5 10 11]]\n"
     ]
    }
   ],
   "source": [
    "print(np.hstack((a,b)))"
   ]
  },
  {
   "cell_type": "code",
   "execution_count": 60,
   "metadata": {
    "colab": {
     "base_uri": "https://localhost:8080/"
    },
    "executionInfo": {
     "elapsed": 149,
     "status": "ok",
     "timestamp": 1684651712033,
     "user": {
      "displayName": "ML Enthusiastics",
      "userId": "10606133362371998928"
     },
     "user_tz": -360
    },
    "id": "jfKEGehacYfL",
    "outputId": "e62d8b4b-9f0c-4262-e236-4aa0b66e7744"
   },
   "outputs": [
    {
     "name": "stdout",
     "output_type": "stream",
     "text": [
      "[[ 6  7  0  1]\n",
      " [ 8  9  2  3]\n",
      " [10 11  4  5]]\n"
     ]
    }
   ],
   "source": [
    "print(np.hstack((b,a)))"
   ]
  },
  {
   "cell_type": "code",
   "execution_count": 61,
   "metadata": {
    "colab": {
     "base_uri": "https://localhost:8080/"
    },
    "executionInfo": {
     "elapsed": 142,
     "status": "ok",
     "timestamp": 1684651712034,
     "user": {
      "displayName": "ML Enthusiastics",
      "userId": "10606133362371998928"
     },
     "user_tz": -360
    },
    "id": "qNcx2kxlc17B",
    "outputId": "576cfd94-a184-426b-da27-fdf31a0db4cd"
   },
   "outputs": [
    {
     "name": "stdout",
     "output_type": "stream",
     "text": [
      "[[ 0  1  2  3  4  5  6  7  8  9 10 11 12 13 14]\n",
      " [15 16 17 18 19 20 21 22 23 24 25 26 27 28 29]]\n"
     ]
    }
   ],
   "source": [
    "a=np.arange(30).reshape(2,15)\n",
    "print(a)"
   ]
  },
  {
   "cell_type": "code",
   "execution_count": 62,
   "metadata": {
    "colab": {
     "base_uri": "https://localhost:8080/"
    },
    "executionInfo": {
     "elapsed": 139,
     "status": "ok",
     "timestamp": 1684651712035,
     "user": {
      "displayName": "ML Enthusiastics",
      "userId": "10606133362371998928"
     },
     "user_tz": -360
    },
    "id": "hk43GhQ1dJ72",
    "outputId": "785f0854-d550-4fda-b2af-5357a81cfff7"
   },
   "outputs": [
    {
     "name": "stdout",
     "output_type": "stream",
     "text": [
      "[[ 0  1  2  3  4]\n",
      " [15 16 17 18 19]]\n",
      "[[ 5  6  7  8  9]\n",
      " [20 21 22 23 24]]\n",
      "[[10 11 12 13 14]\n",
      " [25 26 27 28 29]]\n"
     ]
    }
   ],
   "source": [
    "result=np.hsplit(a,3)\n",
    "print(result[0])\n",
    "print(result[1])\n",
    "print(result[2])"
   ]
  },
  {
   "cell_type": "code",
   "execution_count": 63,
   "metadata": {
    "colab": {
     "base_uri": "https://localhost:8080/"
    },
    "executionInfo": {
     "elapsed": 134,
     "status": "ok",
     "timestamp": 1684651712035,
     "user": {
      "displayName": "ML Enthusiastics",
      "userId": "10606133362371998928"
     },
     "user_tz": -360
    },
    "id": "YCWgbg_Sdv6-",
    "outputId": "34e52366-33c8-45ba-d799-1ddf8c470e07"
   },
   "outputs": [
    {
     "name": "stdout",
     "output_type": "stream",
     "text": [
      "[[ 0  1  2  3  4  5  6  7  8  9 10 11 12 13 14]]\n",
      "[[15 16 17 18 19 20 21 22 23 24 25 26 27 28 29]]\n"
     ]
    }
   ],
   "source": [
    "result=np.vsplit(a,2)\n",
    "print(result[0])\n",
    "print(result[1])"
   ]
  },
  {
   "cell_type": "code",
   "execution_count": 64,
   "metadata": {
    "colab": {
     "base_uri": "https://localhost:8080/"
    },
    "executionInfo": {
     "elapsed": 130,
     "status": "ok",
     "timestamp": 1684651712036,
     "user": {
      "displayName": "ML Enthusiastics",
      "userId": "10606133362371998928"
     },
     "user_tz": -360
    },
    "id": "fI1FtWa4feDq",
    "outputId": "51af09f5-fa09-4ef3-c98e-ed01a4246a65"
   },
   "outputs": [
    {
     "name": "stdout",
     "output_type": "stream",
     "text": [
      "[[ 0  1  2  3]\n",
      " [ 4  5  6  7]\n",
      " [ 8  9 10 11]]\n"
     ]
    }
   ],
   "source": [
    "a=np.arange(12).reshape(3,4)\n",
    "print(a)"
   ]
  },
  {
   "cell_type": "code",
   "execution_count": 65,
   "metadata": {
    "colab": {
     "base_uri": "https://localhost:8080/"
    },
    "executionInfo": {
     "elapsed": 124,
     "status": "ok",
     "timestamp": 1684651712038,
     "user": {
      "displayName": "ML Enthusiastics",
      "userId": "10606133362371998928"
     },
     "user_tz": -360
    },
    "id": "7t58z6Tbf2qh",
    "outputId": "bd0f8a78-87c5-435c-e100-8d11adca615e"
   },
   "outputs": [
    {
     "name": "stdout",
     "output_type": "stream",
     "text": [
      "[[False False False False]\n",
      " [False  True  True  True]\n",
      " [ True  True  True  True]]\n"
     ]
    }
   ],
   "source": [
    "b=a>4\n",
    "print(b)"
   ]
  },
  {
   "cell_type": "code",
   "execution_count": 66,
   "metadata": {
    "colab": {
     "base_uri": "https://localhost:8080/"
    },
    "executionInfo": {
     "elapsed": 121,
     "status": "ok",
     "timestamp": 1684651712039,
     "user": {
      "displayName": "ML Enthusiastics",
      "userId": "10606133362371998928"
     },
     "user_tz": -360
    },
    "id": "3eAdPyASgK3Z",
    "outputId": "48320e7d-83f8-4707-e6a9-7f8ee77a525b"
   },
   "outputs": [
    {
     "name": "stdout",
     "output_type": "stream",
     "text": [
      "[ 5  6  7  8  9 10 11]\n"
     ]
    }
   ],
   "source": [
    "print(a[b])"
   ]
  },
  {
   "cell_type": "code",
   "execution_count": 67,
   "metadata": {
    "colab": {
     "base_uri": "https://localhost:8080/"
    },
    "executionInfo": {
     "elapsed": 117,
     "status": "ok",
     "timestamp": 1684651712039,
     "user": {
      "displayName": "ML Enthusiastics",
      "userId": "10606133362371998928"
     },
     "user_tz": -360
    },
    "id": "zk32XcBLguKN",
    "outputId": "f402fec9-8515-4ba8-82ad-24e83f683fee"
   },
   "outputs": [
    {
     "name": "stdout",
     "output_type": "stream",
     "text": [
      "[[ 0  1  2  3]\n",
      " [ 4 -1 -1 -1]\n",
      " [-1 -1 -1 -1]]\n"
     ]
    }
   ],
   "source": [
    "a[b]=-1\n",
    "print(a)"
   ]
  },
  {
   "cell_type": "markdown",
   "metadata": {
    "id": "oH5PvuzhhEJm"
   },
   "source": [
    "#Iterate numpy array using nditer"
   ]
  },
  {
   "cell_type": "code",
   "execution_count": 68,
   "metadata": {
    "colab": {
     "base_uri": "https://localhost:8080/"
    },
    "executionInfo": {
     "elapsed": 114,
     "status": "ok",
     "timestamp": 1684651712040,
     "user": {
      "displayName": "ML Enthusiastics",
      "userId": "10606133362371998928"
     },
     "user_tz": -360
    },
    "id": "2gTFSSJAhKfU",
    "outputId": "1c48bfc3-bb2d-4a3d-b539-49e594ff03bb"
   },
   "outputs": [
    {
     "name": "stdout",
     "output_type": "stream",
     "text": [
      "[[ 0  1  2  3]\n",
      " [ 4  5  6  7]\n",
      " [ 8  9 10 11]]\n"
     ]
    }
   ],
   "source": [
    "a=np.arange(12).reshape(3,4)\n",
    "print(a)"
   ]
  },
  {
   "cell_type": "code",
   "execution_count": 69,
   "metadata": {
    "colab": {
     "base_uri": "https://localhost:8080/"
    },
    "executionInfo": {
     "elapsed": 110,
     "status": "ok",
     "timestamp": 1684651712040,
     "user": {
      "displayName": "ML Enthusiastics",
      "userId": "10606133362371998928"
     },
     "user_tz": -360
    },
    "id": "_QvAs2iPjDtK",
    "outputId": "cbe7de51-91a9-4de9-e11f-6992714a0aca"
   },
   "outputs": [
    {
     "name": "stdout",
     "output_type": "stream",
     "text": [
      "[0 1 2 3]\n",
      "[4 5 6 7]\n",
      "[ 8  9 10 11]\n"
     ]
    }
   ],
   "source": [
    "for cell in a:\n",
    "  print(cell)"
   ]
  },
  {
   "cell_type": "code",
   "execution_count": 70,
   "metadata": {
    "colab": {
     "base_uri": "https://localhost:8080/"
    },
    "executionInfo": {
     "elapsed": 105,
     "status": "ok",
     "timestamp": 1684651712041,
     "user": {
      "displayName": "ML Enthusiastics",
      "userId": "10606133362371998928"
     },
     "user_tz": -360
    },
    "id": "dWO3UFXYknYw",
    "outputId": "b7ad4aa2-aa40-4e50-edba-0aa8528a38a2"
   },
   "outputs": [
    {
     "name": "stdout",
     "output_type": "stream",
     "text": [
      "[0 1 2 3]\n",
      "[4 5 6 7]\n",
      "[ 8  9 10 11]\n"
     ]
    }
   ],
   "source": [
    "for row in a:\n",
    "  print(row)"
   ]
  },
  {
   "cell_type": "code",
   "execution_count": 71,
   "metadata": {
    "colab": {
     "base_uri": "https://localhost:8080/"
    },
    "executionInfo": {
     "elapsed": 100,
     "status": "ok",
     "timestamp": 1684651712041,
     "user": {
      "displayName": "ML Enthusiastics",
      "userId": "10606133362371998928"
     },
     "user_tz": -360
    },
    "id": "hvZPre75jmCY",
    "outputId": "d88da73f-3e74-4941-93ab-faffca67d2c6"
   },
   "outputs": [
    {
     "name": "stdout",
     "output_type": "stream",
     "text": [
      "0\n",
      "1\n",
      "2\n",
      "3\n",
      "4\n",
      "5\n",
      "6\n",
      "7\n",
      "8\n",
      "9\n",
      "10\n",
      "11\n"
     ]
    }
   ],
   "source": [
    "#where two for loop required\n",
    "for row in a:\n",
    "  for cell in row:\n",
    "    print(cell)\n"
   ]
  },
  {
   "cell_type": "code",
   "execution_count": 72,
   "metadata": {
    "colab": {
     "base_uri": "https://localhost:8080/"
    },
    "executionInfo": {
     "elapsed": 96,
     "status": "ok",
     "timestamp": 1684651712042,
     "user": {
      "displayName": "ML Enthusiastics",
      "userId": "10606133362371998928"
     },
     "user_tz": -360
    },
    "id": "K1CVtQgqjrJw",
    "outputId": "f3357778-651f-47dd-d387-6ce37d102692"
   },
   "outputs": [
    {
     "name": "stdout",
     "output_type": "stream",
     "text": [
      "0\n",
      "1\n",
      "2\n",
      "3\n",
      "4\n",
      "5\n",
      "6\n",
      "7\n",
      "8\n",
      "9\n",
      "10\n",
      "11\n"
     ]
    }
   ],
   "source": [
    "#only one for loop required\n",
    "for cell in a.flatten():\n",
    "  print(cell)"
   ]
  },
  {
   "cell_type": "code",
   "execution_count": 73,
   "metadata": {
    "colab": {
     "base_uri": "https://localhost:8080/"
    },
    "executionInfo": {
     "elapsed": 92,
     "status": "ok",
     "timestamp": 1684651712042,
     "user": {
      "displayName": "ML Enthusiastics",
      "userId": "10606133362371998928"
     },
     "user_tz": -360
    },
    "id": "GQOiLvA6j_D3",
    "outputId": "e21a1d7c-0c61-48b6-a52d-55dde6251719"
   },
   "outputs": [
    {
     "name": "stdout",
     "output_type": "stream",
     "text": [
      "0\n",
      "1\n",
      "2\n",
      "3\n",
      "4\n",
      "5\n",
      "6\n",
      "7\n",
      "8\n",
      "9\n",
      "10\n",
      "11\n"
     ]
    }
   ],
   "source": [
    "#a.flat and a.flatten() do the same function\n",
    "for cell in a.flat:\n",
    "  print(cell)"
   ]
  },
  {
   "cell_type": "code",
   "execution_count": 74,
   "metadata": {
    "colab": {
     "base_uri": "https://localhost:8080/"
    },
    "executionInfo": {
     "elapsed": 87,
     "status": "ok",
     "timestamp": 1684651712043,
     "user": {
      "displayName": "ML Enthusiastics",
      "userId": "10606133362371998928"
     },
     "user_tz": -360
    },
    "id": "_O4HkS1Qlps0",
    "outputId": "b7061300-a8bc-40ae-e3c0-5a80a1f626c1"
   },
   "outputs": [
    {
     "name": "stdout",
     "output_type": "stream",
     "text": [
      "0\n",
      "1\n",
      "2\n",
      "3\n",
      "4\n",
      "5\n",
      "6\n",
      "7\n",
      "8\n",
      "9\n",
      "10\n",
      "11\n"
     ]
    }
   ],
   "source": [
    "#instead of using flat or flatter, we can use nditer for numpy array\n",
    "\n",
    "\n",
    "for x in np.nditer(a,order='C'):\n",
    "    print(x)\n",
    "\n",
    "\n"
   ]
  },
  {
   "cell_type": "code",
   "execution_count": 75,
   "metadata": {
    "colab": {
     "base_uri": "https://localhost:8080/"
    },
    "executionInfo": {
     "elapsed": 83,
     "status": "ok",
     "timestamp": 1684651712044,
     "user": {
      "displayName": "ML Enthusiastics",
      "userId": "10606133362371998928"
     },
     "user_tz": -360
    },
    "id": "LvZjgvgsnCYR",
    "outputId": "cdaa7595-7bca-45d9-edbf-7241ab1689b8"
   },
   "outputs": [
    {
     "name": "stdout",
     "output_type": "stream",
     "text": [
      "0\n",
      "4\n",
      "8\n",
      "1\n",
      "5\n",
      "9\n",
      "2\n",
      "6\n",
      "10\n",
      "3\n",
      "7\n",
      "11\n"
     ]
    }
   ],
   "source": [
    "# fortan style\n",
    "for x in np.nditer(a,order='F'):\n",
    "    print(x)"
   ]
  },
  {
   "cell_type": "code",
   "execution_count": 76,
   "metadata": {
    "colab": {
     "base_uri": "https://localhost:8080/"
    },
    "executionInfo": {
     "elapsed": 81,
     "status": "ok",
     "timestamp": 1684651712045,
     "user": {
      "displayName": "ML Enthusiastics",
      "userId": "10606133362371998928"
     },
     "user_tz": -360
    },
    "id": "clWfMePvpZye",
    "outputId": "aec028d6-b479-40aa-ccc0-4bdec01d88a2"
   },
   "outputs": [
    {
     "name": "stdout",
     "output_type": "stream",
     "text": [
      "[0 4 8]\n",
      "[1 5 9]\n",
      "[ 2  6 10]\n",
      "[ 3  7 11]\n"
     ]
    }
   ],
   "source": [
    "# function of flags\n",
    "for x in np.nditer(a,order='F',flags=['external_loop']):\n",
    "    print(x)"
   ]
  },
  {
   "cell_type": "code",
   "execution_count": 77,
   "metadata": {
    "colab": {
     "base_uri": "https://localhost:8080/"
    },
    "executionInfo": {
     "elapsed": 75,
     "status": "ok",
     "timestamp": 1684651712045,
     "user": {
      "displayName": "ML Enthusiastics",
      "userId": "10606133362371998928"
     },
     "user_tz": -360
    },
    "id": "3RfTduBip_8L",
    "outputId": "2ae55e0c-520b-4237-d8b1-b0d4177b5a61"
   },
   "outputs": [
    {
     "name": "stdout",
     "output_type": "stream",
     "text": [
      "[[  0   1   4   9]\n",
      " [ 16  25  36  49]\n",
      " [ 64  81 100 121]]\n"
     ]
    }
   ],
   "source": [
    "#function of op_flags\n",
    "for x in np.nditer(a,op_flags=['readwrite']):\n",
    "  x[...]=x*x\n",
    "print(a)  \n"
   ]
  },
  {
   "cell_type": "code",
   "execution_count": 78,
   "metadata": {
    "colab": {
     "base_uri": "https://localhost:8080/"
    },
    "executionInfo": {
     "elapsed": 73,
     "status": "ok",
     "timestamp": 1684651712046,
     "user": {
      "displayName": "ML Enthusiastics",
      "userId": "10606133362371998928"
     },
     "user_tz": -360
    },
    "id": "I2fKtaiDrlp3",
    "outputId": "ef052b90-ae0b-4b2e-edad-75410f457402"
   },
   "outputs": [
    {
     "name": "stdout",
     "output_type": "stream",
     "text": [
      "[[ 0  1  2  3]\n",
      " [ 4  5  6  7]\n",
      " [ 8  9 10 11]]\n",
      "\n",
      "\n",
      "[[ 3]\n",
      " [ 7]\n",
      " [11]]\n"
     ]
    }
   ],
   "source": [
    "#iterate two arrays simultaneously \n",
    "\n",
    "a=np.arange(12).reshape(3,4)\n",
    "print(a)\n",
    "print(\"\\n\")\n",
    "b=np.arange(3,15,4).reshape(3,1)\n",
    "print(b)"
   ]
  },
  {
   "cell_type": "code",
   "execution_count": 79,
   "metadata": {
    "colab": {
     "base_uri": "https://localhost:8080/"
    },
    "executionInfo": {
     "elapsed": 68,
     "status": "ok",
     "timestamp": 1684651712046,
     "user": {
      "displayName": "ML Enthusiastics",
      "userId": "10606133362371998928"
     },
     "user_tz": -360
    },
    "id": "7zXjxHJvsB0D",
    "outputId": "b74d99a5-0d47-4f4e-ec63-956cb94003de"
   },
   "outputs": [
    {
     "name": "stdout",
     "output_type": "stream",
     "text": [
      "0 3\n",
      "1 3\n",
      "2 3\n",
      "3 3\n",
      "4 7\n",
      "5 7\n",
      "6 7\n",
      "7 7\n",
      "8 11\n",
      "9 11\n",
      "10 11\n",
      "11 11\n"
     ]
    }
   ],
   "source": [
    "for x,y in np.nditer([a,b]):\n",
    "    print(x,y)"
   ]
  },
  {
   "cell_type": "code",
   "execution_count": null,
   "metadata": {},
   "outputs": [],
   "source": [
    "print(\"Mohammad Fayez Ullah \")"
   ]
  }
 ],
 "metadata": {
  "colab": {
   "authorship_tag": "ABX9TyNwkrldpnoO/fj5YLwj6G1B",
   "provenance": []
  },
  "kernelspec": {
   "display_name": "Python 3",
   "name": "python3"
  },
  "language_info": {
   "name": "python"
  }
 },
 "nbformat": 4,
 "nbformat_minor": 0
}
